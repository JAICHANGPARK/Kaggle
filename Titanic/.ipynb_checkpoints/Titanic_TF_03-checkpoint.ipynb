{
 "cells": [
  {
   "cell_type": "code",
   "execution_count": 1,
   "metadata": {
    "collapsed": true
   },
   "outputs": [],
   "source": [
    "import tensorflow as tf\n",
    "import numpy as np\n",
    "import matplotlib.pyplot as plt\n",
    "import seaborn as sns\n",
    "import pandas as pd\n",
    "import time"
   ]
  },
  {
   "cell_type": "code",
   "execution_count": 2,
   "metadata": {
    "collapsed": true
   },
   "outputs": [],
   "source": [
    "def load_file(is_test):\n",
    "    if is_test:\n",
    "        test_url = \"http://s3.amazonaws.com/assets.datacamp.com/course/Kaggle/test.csv\"\n",
    "        data_df = pd.read_csv(test_url)\n",
    "    else:\n",
    "        train_url = \"http://s3.amazonaws.com/assets.datacamp.com/course/Kaggle/train.csv\"\n",
    "        data_df = pd.read_csv(train_url)\n",
    "\n",
    "    cols = [\"Pclass\",\"Sex\",\"Age\",\"Fare\", \"Embarked_0\", \"Embarked_1\", \"Embarked_2\"]\n",
    "    \n",
    "    data_df['Sex'] = data_df['Sex'].map({'female':0, 'male':1}).astype(int) \n",
    "    \n",
    "    #handle missing values of age\n",
    "    data_df[\"Age\"] = data_df[\"Age\"].fillna(data_df[\"Age\"].mean())\n",
    "    data_df[\"Fare\"] = data_df[\"Fare\"].fillna(data_df[\"Fare\"].mean())\n",
    "    \n",
    "    data_df['Embarked'] = data_df['Embarked'].fillna('S')\n",
    "    data_df['Embarked'] = data_df['Embarked'].map({'S':0, 'C':1, 'Q':2}).astype(int)\n",
    "    data_df = pd.concat([data_df, pd.get_dummies(data_df['Embarked'], prefix='Embarked')], axis=1)\n",
    "\n",
    "    #print(data_df.head())\n",
    "    data = data_df[cols].values\n",
    "    \n",
    "    if is_test:\n",
    "        sing_col = data_df[\"PassengerId\"].values\n",
    "    else:\n",
    "        sing_col = data_df[\"Survived\"].values\n",
    "        \n",
    "    return sing_col, data\n",
    "\n",
    "survived, data_train = load_file(0)"
   ]
  },
  {
   "cell_type": "code",
   "execution_count": 3,
   "metadata": {
    "collapsed": true
   },
   "outputs": [],
   "source": [
    "# Normalize x data\n",
    "def MinMaxScaler(data):\n",
    "    numerator = data - np.min(data, 0)\n",
    "    denominator = np.max(data, 0) - np.min(data, 0)\n",
    "    # noise term prevents the zero division\n",
    "    return numerator / (denominator + 1e-7)"
   ]
  },
  {
   "cell_type": "code",
   "execution_count": 4,
   "metadata": {},
   "outputs": [
    {
     "name": "stdout",
     "output_type": "stream",
     "text": [
      "(891, 7) (418, 7)\n",
      "(1309, 7)\n",
      "(891, 7) (418, 7)\n"
     ]
    }
   ],
   "source": [
    "y_train, x_train = load_file(0)\n",
    "y_train = np.expand_dims(y_train, 1)\n",
    "train_len = len(x_train)\n",
    "# Get train file\n",
    "passId, x_test = load_file(1)\n",
    "\n",
    "print(x_train.shape, x_test.shape)\n",
    "\n",
    "x_all = np.vstack((x_train, x_test))\n",
    "print(x_all.shape)\n",
    "\n",
    "x_min_max_all = MinMaxScaler(x_all)\n",
    "x_train = x_min_max_all[:train_len]\n",
    "x_test = x_min_max_all[train_len:]\n",
    "\n",
    "print(x_train.shape, x_test.shape)"
   ]
  },
  {
   "cell_type": "markdown",
   "metadata": {},
   "source": [
    "# Model"
   ]
  },
  {
   "cell_type": "code",
   "execution_count": 9,
   "metadata": {
    "collapsed": true
   },
   "outputs": [],
   "source": [
    "# Parameters\n",
    "learning_rate = 0.05\n",
    "\n",
    "# Network Parameters\n",
    "network_input = 7  # x_train.shape[1]\n",
    "network_classes = 2 #survived.shape[1]\n",
    "hidden_layer_1 = 32  # 1st layer number of features\n",
    "hidden_layer_2 = 64  # 2nd layer number of features\n",
    "\n",
    "# placeholders for a tensor that will be always fed.\n",
    "X = tf.placeholder(tf.float32, shape=[None, network_input])\n",
    "Y = tf.placeholder(tf.float32, shape=[None, 2])\n",
    "\n",
    "with tf.name_scope(\"layer1\") as scope:\n",
    "    W1 = tf.Variable(tf.random_normal([network_input,hidden_layer_1]), name=\"Weight_one\")\n",
    "    b1 = tf.Variable(tf.random_normal([hidden_layer_1]),name=\"Bias_one\")\n",
    "    layer_one = tf.add(tf.matmul(X,W1 ), b1)\n",
    "    layer_one = tf.nn.relu(layer_one)\n",
    "    \n",
    "    w1_histogram = tf.summary.histogram(\"Weight_one\", W1)\n",
    "    b1_histogram = tf.summary.histogram(\"Bias-one\",b1)\n",
    "    layer_one_histogram = tf.summary.histogram(\"layer1\",layer_one)\n",
    "    \n",
    "with tf.name_scope(\"layer2\") as scope:\n",
    "    W2 = tf.Variable(tf.random_normal([hidden_layer_1,hidden_layer_2]), name=\"Weight_two\")\n",
    "    b2 = tf.Variable(tf.random_normal([hidden_layer_2]),name=\"Bias_two\")\n",
    "    \n",
    "    layer_two = tf.add(tf.matmul(layer_one,W2 ), b2)\n",
    "    layer_two = tf.nn.relu(layer_two)\n",
    "    \n",
    "    w2_histogram = tf.summary.histogram(\"Weight_two\", W2)\n",
    "    b2_histogram = tf.summary.histogram(\"Bias_two\",b2)\n",
    "    layer_two_histogram = tf.summary.histogram(\"layer2\",layer_two)"
   ]
  },
  {
   "cell_type": "code",
   "execution_count": 10,
   "metadata": {
    "collapsed": true
   },
   "outputs": [],
   "source": [
    "weight = tf.Variable(tf.random_normal([hidden_layer_2, network_classes]), name='weight')\n",
    "bias = tf.Variable(tf.random_normal([network_classes]), name='bias')\n",
    "\n",
    "hypothesis = tf.matmul(layer_two, weight) + bias\n",
    "logits = tf.nn.softmax(hypothesis)\n",
    "cost = tf.reduce_mean(tf.nn.softmax_cross_entropy_with_logits(logits=logits, labels=Y))\n",
    "optimizer = tf.train.AdamOptimizer(learning_rate=learning_rate).minimize(cost)\n",
    "# # cost/loss function\n",
    "# cost = -tf.reduce_mean(Y*tf.log(hypothesis) + (1 - Y)*tf.log(1 - hypothesis))\n",
    "\n",
    "# optimizer = tf.train.AdamOptimizer(learning_rate=learning_rate).minimize(cost)\n",
    "\n",
    "# Accuracy computation\n",
    "# True if hypothesis>0.5 else False\n",
    "predicted = tf.cast(hypothesis > 0.5, dtype=tf.float32)\n",
    "accuracy = tf.reduce_mean(tf.cast(tf.equal(predicted, Y), dtype=tf.float32))"
   ]
  },
  {
   "cell_type": "code",
   "execution_count": 11,
   "metadata": {
    "collapsed": true
   },
   "outputs": [],
   "source": [
    "training_epochs = 20\n",
    "batch_size = 50\n",
    "display_step = 1\n",
    "step_size = 1000"
   ]
  },
  {
   "cell_type": "code",
   "execution_count": 12,
   "metadata": {},
   "outputs": [
    {
     "ename": "ValueError",
     "evalue": "Cannot feed value of shape (50, 1) for Tensor 'Placeholder_3:0', which has shape '(?, 2)'",
     "output_type": "error",
     "traceback": [
      "\u001b[1;31m---------------------------------------------------------------------------\u001b[0m",
      "\u001b[1;31mValueError\u001b[0m                                Traceback (most recent call last)",
      "\u001b[1;32m<ipython-input-12-e9bb12e322eb>\u001b[0m in \u001b[0;36m<module>\u001b[1;34m()\u001b[0m\n\u001b[0;32m     17\u001b[0m \u001b[1;33m\u001b[0m\u001b[0m\n\u001b[0;32m     18\u001b[0m             \u001b[1;31m# Run optimization op (backprop) and cost op (to get loss value)\u001b[0m\u001b[1;33m\u001b[0m\u001b[1;33m\u001b[0m\u001b[0m\n\u001b[1;32m---> 19\u001b[1;33m             \u001b[0m_\u001b[0m\u001b[1;33m,\u001b[0m \u001b[0mc\u001b[0m\u001b[1;33m,\u001b[0m \u001b[0ma\u001b[0m \u001b[1;33m=\u001b[0m \u001b[0msess\u001b[0m\u001b[1;33m.\u001b[0m\u001b[0mrun\u001b[0m\u001b[1;33m(\u001b[0m\u001b[1;33m[\u001b[0m\u001b[0moptimizer\u001b[0m\u001b[1;33m,\u001b[0m \u001b[0mcost\u001b[0m\u001b[1;33m,\u001b[0m \u001b[0maccuracy\u001b[0m\u001b[1;33m]\u001b[0m\u001b[1;33m,\u001b[0m \u001b[0mfeed_dict\u001b[0m\u001b[1;33m=\u001b[0m\u001b[1;33m{\u001b[0m\u001b[0mX\u001b[0m\u001b[1;33m:\u001b[0m \u001b[0mbatch_data\u001b[0m\u001b[1;33m,\u001b[0m\u001b[0mY\u001b[0m\u001b[1;33m:\u001b[0m \u001b[0mbatch_labels\u001b[0m\u001b[1;33m}\u001b[0m\u001b[1;33m)\u001b[0m\u001b[1;33m\u001b[0m\u001b[0m\n\u001b[0m\u001b[0;32m     20\u001b[0m             \u001b[0mavg_cost\u001b[0m \u001b[1;33m+=\u001b[0m \u001b[0mc\u001b[0m \u001b[1;33m/\u001b[0m \u001b[0mstep_size\u001b[0m\u001b[1;33m\u001b[0m\u001b[0m\n\u001b[0;32m     21\u001b[0m             \u001b[0mavg_accuracy\u001b[0m \u001b[1;33m+=\u001b[0m \u001b[0ma\u001b[0m \u001b[1;33m/\u001b[0m \u001b[0mstep_size\u001b[0m\u001b[1;33m\u001b[0m\u001b[0m\n",
      "\u001b[1;32mc:\\users\\2e313jcp\\appdata\\local\\programs\\python\\python35\\lib\\site-packages\\tensorflow\\python\\client\\session.py\u001b[0m in \u001b[0;36mrun\u001b[1;34m(self, fetches, feed_dict, options, run_metadata)\u001b[0m\n\u001b[0;32m    776\u001b[0m     \u001b[1;32mtry\u001b[0m\u001b[1;33m:\u001b[0m\u001b[1;33m\u001b[0m\u001b[0m\n\u001b[0;32m    777\u001b[0m       result = self._run(None, fetches, feed_dict, options_ptr,\n\u001b[1;32m--> 778\u001b[1;33m                          run_metadata_ptr)\n\u001b[0m\u001b[0;32m    779\u001b[0m       \u001b[1;32mif\u001b[0m \u001b[0mrun_metadata\u001b[0m\u001b[1;33m:\u001b[0m\u001b[1;33m\u001b[0m\u001b[0m\n\u001b[0;32m    780\u001b[0m         \u001b[0mproto_data\u001b[0m \u001b[1;33m=\u001b[0m \u001b[0mtf_session\u001b[0m\u001b[1;33m.\u001b[0m\u001b[0mTF_GetBuffer\u001b[0m\u001b[1;33m(\u001b[0m\u001b[0mrun_metadata_ptr\u001b[0m\u001b[1;33m)\u001b[0m\u001b[1;33m\u001b[0m\u001b[0m\n",
      "\u001b[1;32mc:\\users\\2e313jcp\\appdata\\local\\programs\\python\\python35\\lib\\site-packages\\tensorflow\\python\\client\\session.py\u001b[0m in \u001b[0;36m_run\u001b[1;34m(self, handle, fetches, feed_dict, options, run_metadata)\u001b[0m\n\u001b[0;32m    959\u001b[0m                 \u001b[1;34m'Cannot feed value of shape %r for Tensor %r, '\u001b[0m\u001b[1;33m\u001b[0m\u001b[0m\n\u001b[0;32m    960\u001b[0m                 \u001b[1;34m'which has shape %r'\u001b[0m\u001b[1;33m\u001b[0m\u001b[0m\n\u001b[1;32m--> 961\u001b[1;33m                 % (np_val.shape, subfeed_t.name, str(subfeed_t.get_shape())))\n\u001b[0m\u001b[0;32m    962\u001b[0m           \u001b[1;32mif\u001b[0m \u001b[1;32mnot\u001b[0m \u001b[0mself\u001b[0m\u001b[1;33m.\u001b[0m\u001b[0mgraph\u001b[0m\u001b[1;33m.\u001b[0m\u001b[0mis_feedable\u001b[0m\u001b[1;33m(\u001b[0m\u001b[0msubfeed_t\u001b[0m\u001b[1;33m)\u001b[0m\u001b[1;33m:\u001b[0m\u001b[1;33m\u001b[0m\u001b[0m\n\u001b[0;32m    963\u001b[0m             \u001b[1;32mraise\u001b[0m \u001b[0mValueError\u001b[0m\u001b[1;33m(\u001b[0m\u001b[1;34m'Tensor %s may not be fed.'\u001b[0m \u001b[1;33m%\u001b[0m \u001b[0msubfeed_t\u001b[0m\u001b[1;33m)\u001b[0m\u001b[1;33m\u001b[0m\u001b[0m\n",
      "\u001b[1;31mValueError\u001b[0m: Cannot feed value of shape (50, 1) for Tensor 'Placeholder_3:0', which has shape '(?, 2)'"
     ]
    }
   ],
   "source": [
    "start = time.time()\n",
    "with tf.Session() as sess:\n",
    "    sess.run(tf.global_variables_initializer())\n",
    "\n",
    "    # Training cycle\n",
    "    for epoch in range(training_epochs):\n",
    "        avg_cost = 0.\n",
    "        avg_accuracy = 0.\n",
    "        # Loop over step_size\n",
    "        for step in range(step_size):\n",
    "            # Pick an offset within the training data, which has been randomized.\n",
    "            # Note: we could use better randomization across epochs.\n",
    "            offset = (step * batch_size) % (y_train.shape[0] - batch_size)\n",
    "            # Generate a minibatch.\n",
    "            batch_data = x_train[offset:(offset + batch_size), :]\n",
    "            batch_labels = y_train[offset:(offset + batch_size), :]\n",
    "\n",
    "            # Run optimization op (backprop) and cost op (to get loss value)\n",
    "            _, c, a = sess.run([optimizer, cost, accuracy], feed_dict={X: batch_data,Y: batch_labels})\n",
    "            avg_cost += c / step_size\n",
    "            avg_accuracy += a / step_size\n",
    "\n",
    "        # Display logs per epoch step\n",
    "        if epoch % display_step == 0:\n",
    "            print(\"Epoch:\", '%02d' % (epoch + 1), \"cost={:.4f}\".format(avg_cost), \"train accuracy={:.4f}\".format(avg_accuracy))\n",
    "    print(\"Optimization Finished!\")\n",
    "    \n",
    "    ## 4. Results (creating submission file)\n",
    "    \n",
    "    outputs = sess.run(predicted, feed_dict={X: x_test})\n",
    "    \n",
    "    submission = ['PassengerId,Survived']\n",
    "    for id, prediction in zip(passId, outputs):\n",
    "        submission.append('{0},{1}'.format(id, int(prediction)))\n",
    "\n",
    "    submission = '\\n'.join(submission)\n",
    "\n",
    "    with open('submission.csv', 'w') as outfile:\n",
    "        outfile.write(submission)\n",
    "estimate_time = time.time() - start\n",
    "print(estimate_time)"
   ]
  },
  {
   "cell_type": "code",
   "execution_count": null,
   "metadata": {
    "collapsed": true
   },
   "outputs": [],
   "source": []
  }
 ],
 "metadata": {
  "kernelspec": {
   "display_name": "Python 3",
   "language": "python",
   "name": "python3"
  },
  "language_info": {
   "codemirror_mode": {
    "name": "ipython",
    "version": 3
   },
   "file_extension": ".py",
   "mimetype": "text/x-python",
   "name": "python",
   "nbconvert_exporter": "python",
   "pygments_lexer": "ipython3",
   "version": "3.5.2"
  }
 },
 "nbformat": 4,
 "nbformat_minor": 2
}
